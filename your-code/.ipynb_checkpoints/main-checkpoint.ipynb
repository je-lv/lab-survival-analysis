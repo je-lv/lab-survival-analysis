{
 "cells": [
  {
   "cell_type": "markdown",
   "metadata": {},
   "source": [
    "# Survival Analysis Lab\n",
    "\n",
    "Complete the following exercises to solidify your knowledge of survival analysis."
   ]
  },
  {
   "cell_type": "code",
   "execution_count": 6,
   "metadata": {},
   "outputs": [
    {
     "data": {
      "text/html": [
       "        <script type=\"text/javascript\">\n",
       "        window.PlotlyConfig = {MathJaxConfig: 'local'};\n",
       "        if (window.MathJax) {MathJax.Hub.Config({SVG: {font: \"STIX-Web\"}});}\n",
       "        if (typeof require !== 'undefined') {\n",
       "        require.undef(\"plotly\");\n",
       "        requirejs.config({\n",
       "            paths: {\n",
       "                'plotly': ['https://cdn.plot.ly/plotly-latest.min']\n",
       "            }\n",
       "        });\n",
       "        require(['plotly'], function(Plotly) {\n",
       "            window._Plotly = Plotly;\n",
       "        });\n",
       "        }\n",
       "        </script>\n",
       "        "
      ]
     },
     "metadata": {},
     "output_type": "display_data"
    }
   ],
   "source": [
    "import pandas as pd\n",
    "import chart_studio.plotly as py\n",
    "import cufflinks as cf\n",
    "from lifelines import KaplanMeierFitter\n",
    "\n",
    "cf.go_offline()"
   ]
  },
  {
   "cell_type": "code",
   "execution_count": 5,
   "metadata": {},
   "outputs": [
    {
     "name": "stdout",
     "output_type": "stream",
     "text": [
      "Collecting lifelines\n",
      "\u001b[?25l  Downloading https://files.pythonhosted.org/packages/2a/74/8cedb2e828545dde99f7b57cfcbcd8f5fecbba36407aad6c520bf304b846/lifelines-0.23.7-py2.py3-none-any.whl (410kB)\n",
      "\u001b[K    100% |████████████████████████████████| 419kB 2.2MB/s ta 0:00:01\n",
      "\u001b[?25hRequirement already satisfied: scipy>=1.0 in /home/jelv/anaconda3/lib/python3.7/site-packages (from lifelines) (1.2.1)\n",
      "Collecting autograd>=1.3 (from lifelines)\n",
      "  Downloading https://files.pythonhosted.org/packages/23/12/b58522dc2cbbd7ab939c7b8e5542c441c9a06a8eccb00b3ecac04a739896/autograd-1.3.tar.gz\n",
      "Requirement already satisfied: numpy>=1.14.0 in /home/jelv/anaconda3/lib/python3.7/site-packages (from lifelines) (1.16.2)\n",
      "Requirement already satisfied: matplotlib>=3.0 in /home/jelv/anaconda3/lib/python3.7/site-packages (from lifelines) (3.0.3)\n",
      "Requirement already satisfied: pandas>=0.23.0 in /home/jelv/anaconda3/lib/python3.7/site-packages (from lifelines) (0.24.2)\n",
      "Collecting autograd-gamma>=0.3 (from lifelines)\n",
      "  Downloading https://files.pythonhosted.org/packages/3e/87/788c4bf90cc5c534cb3b7fdb5b719175e33e2658decce75e35e2ce69766f/autograd_gamma-0.4.1-py2.py3-none-any.whl\n",
      "Requirement already satisfied: future>=0.15.2 in /home/jelv/anaconda3/lib/python3.7/site-packages (from autograd>=1.3->lifelines) (0.17.1)\n",
      "Requirement already satisfied: cycler>=0.10 in /home/jelv/anaconda3/lib/python3.7/site-packages (from matplotlib>=3.0->lifelines) (0.10.0)\n",
      "Requirement already satisfied: kiwisolver>=1.0.1 in /home/jelv/anaconda3/lib/python3.7/site-packages (from matplotlib>=3.0->lifelines) (1.0.1)\n",
      "Requirement already satisfied: pyparsing!=2.0.4,!=2.1.2,!=2.1.6,>=2.0.1 in /home/jelv/anaconda3/lib/python3.7/site-packages (from matplotlib>=3.0->lifelines) (2.2.2)\n",
      "Requirement already satisfied: python-dateutil>=2.1 in /home/jelv/anaconda3/lib/python3.7/site-packages (from matplotlib>=3.0->lifelines) (2.8.0)\n",
      "Requirement already satisfied: pytz>=2011k in /home/jelv/anaconda3/lib/python3.7/site-packages (from pandas>=0.23.0->lifelines) (2018.9)\n",
      "Requirement already satisfied: six in /home/jelv/anaconda3/lib/python3.7/site-packages (from cycler>=0.10->matplotlib>=3.0->lifelines) (1.12.0)\n",
      "Requirement already satisfied: setuptools in /home/jelv/anaconda3/lib/python3.7/site-packages (from kiwisolver>=1.0.1->matplotlib>=3.0->lifelines) (40.8.0)\n",
      "Building wheels for collected packages: autograd\n",
      "  Building wheel for autograd (setup.py) ... \u001b[?25ldone\n",
      "\u001b[?25h  Stored in directory: /home/jelv/.cache/pip/wheels/42/62/66/1121afe23ff96af4e452e0d15e68761e3f605952ee075ca99f\n",
      "Successfully built autograd\n",
      "Installing collected packages: autograd, autograd-gamma, lifelines\n",
      "Successfully installed autograd-1.3 autograd-gamma-0.4.1 lifelines-0.23.7\n"
     ]
    }
   ],
   "source": [
    "!pip install lifelines"
   ]
  },
  {
   "cell_type": "code",
   "execution_count": null,
   "metadata": {},
   "outputs": [],
   "source": [
    "data = pd.read_csv('./data/attrition.csv')"
   ]
  },
  {
   "cell_type": "markdown",
   "metadata": {},
   "source": [
    "## 1. Generate and plot a survival function that shows how employee retention rates vary by gender and employee age.\n",
    "\n",
    "*Tip: If your lines have gaps in them, you can fill them in by using the `fillna(method=ffill)` and the `fillna(method=bfill)` methods and then taking the average. We have provided you with a revised survival function below that you can use for the exercises in this lab*"
   ]
  },
  {
   "cell_type": "code",
   "execution_count": null,
   "metadata": {},
   "outputs": [],
   "source": [
    "def survival(data, group_field, time_field, event_field):\n",
    "    kmf = KaplanMeierFitter()\n",
    "    results = []\n",
    "\n",
    "    for i in data[group_field].unique():\n",
    "        group = data[data[group_field]==i]\n",
    "        T = group[time_field]\n",
    "        E = group[event_field]\n",
    "        kmf.fit(T, E, label=str(i))\n",
    "        results.append(kmf.survival_function_)\n",
    "\n",
    "    survival = pd.concat(results, axis=1)\n",
    "    front_fill = survival.fillna(method='ffill')\n",
    "    back_fill = survival.fillna(method='bfill')\n",
    "    smoothed = (front_fill + back_fill) / 2\n",
    "    return smoothed"
   ]
  },
  {
   "cell_type": "code",
   "execution_count": null,
   "metadata": {},
   "outputs": [],
   "source": []
  },
  {
   "cell_type": "markdown",
   "metadata": {},
   "source": [
    "## 2. Compare the plot above with one that plots employee retention rates by gender over the number of years the employee has been working for the company."
   ]
  },
  {
   "cell_type": "code",
   "execution_count": null,
   "metadata": {},
   "outputs": [],
   "source": []
  },
  {
   "cell_type": "markdown",
   "metadata": {},
   "source": [
    "## 3. Let's look at retention rate by gender from a third perspective - the number of years since the employee's last promotion. Generate and plot a survival curve showing this."
   ]
  },
  {
   "cell_type": "code",
   "execution_count": null,
   "metadata": {},
   "outputs": [],
   "source": []
  },
  {
   "cell_type": "markdown",
   "metadata": {},
   "source": [
    "## 4. Let's switch to looking at retention rates from another demographic perspective: marital status. Generate and plot survival curves for the different marital statuses by number of years at the company."
   ]
  },
  {
   "cell_type": "code",
   "execution_count": null,
   "metadata": {},
   "outputs": [],
   "source": []
  },
  {
   "cell_type": "markdown",
   "metadata": {},
   "source": [
    "## 5. Let's also look at the marital status curves by employee age. Generate and plot the survival curves showing retention rates by marital status and age."
   ]
  },
  {
   "cell_type": "code",
   "execution_count": null,
   "metadata": {},
   "outputs": [],
   "source": []
  },
  {
   "cell_type": "markdown",
   "metadata": {},
   "source": [
    "## 6. Now that we have looked at the retention rates by gender and marital status individually, let's look at them together. \n",
    "\n",
    "Create a new field in the data set that concatenates marital status and gender, and then generate and plot a survival curve that shows the retention by this new field over the age of the employee."
   ]
  },
  {
   "cell_type": "code",
   "execution_count": null,
   "metadata": {},
   "outputs": [],
   "source": []
  },
  {
   "cell_type": "markdown",
   "metadata": {},
   "source": [
    "## 6. Let's find out how job satisfaction affects retention rates. Generate and plot survival curves for each level of job satisfaction by number of years at the company."
   ]
  },
  {
   "cell_type": "code",
   "execution_count": null,
   "metadata": {},
   "outputs": [],
   "source": []
  },
  {
   "cell_type": "markdown",
   "metadata": {},
   "source": [
    "## 7. Let's investigate whether the department the employee works in has an impact on how long they stay with the company. Generate and plot survival curves showing retention by department and years the employee has worked at the company."
   ]
  },
  {
   "cell_type": "code",
   "execution_count": null,
   "metadata": {},
   "outputs": [],
   "source": []
  },
  {
   "cell_type": "markdown",
   "metadata": {},
   "source": [
    "## 8. From the previous example, it looks like the sales department has the highest attrition. Let's drill down on this and look at what the survival curves for specific job roles within that department look like.\n",
    "\n",
    "Filter the data set for just the sales department and then generate and plot survival curves by job role and the number of years at the company."
   ]
  },
  {
   "cell_type": "code",
   "execution_count": null,
   "metadata": {},
   "outputs": [],
   "source": []
  },
  {
   "cell_type": "markdown",
   "metadata": {},
   "source": [
    "## 9. Let examine how compensation affects attrition.\n",
    "\n",
    "- Use the `pd.qcut` method to bin the HourlyRate field into 5 different pay grade categories (Very Low, Low, Moderate, High, and Very High).\n",
    "- Generate and plot survival curves showing employee retention by pay grade and age."
   ]
  },
  {
   "cell_type": "code",
   "execution_count": null,
   "metadata": {},
   "outputs": [],
   "source": []
  },
  {
   "cell_type": "markdown",
   "metadata": {},
   "source": [
    "## 10. Finally, let's take a look at how the demands of the job impact employee attrition.\n",
    "\n",
    "- Create a new field whose values are 'Overtime' or 'Regular Hours' depending on whether there is a Yes or a No in the OverTime field.\n",
    "- Create a new field that concatenates that field with the BusinessTravel field.\n",
    "- Generate and plot survival curves showing employee retention based on these conditions and employee age."
   ]
  },
  {
   "cell_type": "code",
   "execution_count": null,
   "metadata": {},
   "outputs": [],
   "source": []
  }
 ],
 "metadata": {
  "kernelspec": {
   "display_name": "Python 3",
   "language": "python",
   "name": "python3"
  },
  "language_info": {
   "codemirror_mode": {
    "name": "ipython",
    "version": 3
   },
   "file_extension": ".py",
   "mimetype": "text/x-python",
   "name": "python",
   "nbconvert_exporter": "python",
   "pygments_lexer": "ipython3",
   "version": "3.7.3"
  }
 },
 "nbformat": 4,
 "nbformat_minor": 2
}
